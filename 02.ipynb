{
 "cells": [
  {
   "cell_type": "markdown",
   "id": "3b03ea62",
   "metadata": {},
   "source": [
    "# write programs in python using numpy library to do \n"
   ]
  },
  {
   "cell_type": "markdown",
   "id": "474e1d8b",
   "metadata": {},
   "source": [
    "a. Compute the mean, standard deviation, and variance of a two dimensional random integer array along the second axis\n"
   ]
  },
  {
   "cell_type": "code",
   "execution_count": 2,
   "id": "db77d256",
   "metadata": {},
   "outputs": [
    {
     "name": "stdout",
     "output_type": "stream",
     "text": [
      "[[52  1 51 43]\n",
      " [44  8  8 76]\n",
      " [72 82 83 80]\n",
      " [35 68 40 58]]\n"
     ]
    }
   ],
   "source": [
    "import numpy as np\n",
    "\n",
    "arr=np.array(np.random.randint(0,100,(4,4)))\n",
    "print(arr)"
   ]
  },
  {
   "cell_type": "code",
   "execution_count": 11,
   "id": "e68b059c",
   "metadata": {},
   "outputs": [
    {
     "name": "stdout",
     "output_type": "stream",
     "text": [
      "MEAN is : [33.   60.25 60.   38.  ]\n"
     ]
    }
   ],
   "source": [
    "mean=np.mean(arr,axis=1)\n",
    "print(\"MEAN is :\",mean)"
   ]
  },
  {
   "cell_type": "code",
   "execution_count": 12,
   "id": "07f023c0",
   "metadata": {},
   "outputs": [
    {
     "name": "stdout",
     "output_type": "stream",
     "text": [
      "Standard Deviation is : [29.76575213 10.87140745 14.54303957 29.42787794]\n"
     ]
    }
   ],
   "source": [
    "sd=np.std(arr,axis=1)\n",
    "print(\"Standard Deviation is :\",sd)"
   ]
  },
  {
   "cell_type": "code",
   "execution_count": 15,
   "id": "ade26b77",
   "metadata": {},
   "outputs": [
    {
     "name": "stdout",
     "output_type": "stream",
     "text": [
      "Variance is: [886.     118.1875 211.5    866.    ]\n"
     ]
    }
   ],
   "source": [
    "var=np.var(arr,axis=1)\n",
    "print(\"Variance is:\",var)"
   ]
  },
  {
   "cell_type": "markdown",
   "id": "068273b9",
   "metadata": {},
   "source": [
    "b. Get the indices of the sorted elements of a given array\n",
    "    B=[56,48,22,41,78,91,24,46,8,33]"
   ]
  },
  {
   "cell_type": "code",
   "execution_count": 3,
   "id": "a6bd8d09",
   "metadata": {},
   "outputs": [
    {
     "name": "stdout",
     "output_type": "stream",
     "text": [
      "[56 48 22 41 78 91 24 46  8 33]\n",
      "Indices of sorted element of array B : [8 2 6 9 3 7 1 0 4 5]\n"
     ]
    }
   ],
   "source": [
    "B=np.array([56,48,22,41,78,91,24,46,8,33])\n",
    "print(B)\n",
    "print('Indices of sorted element of array B :',np.argsort(B))"
   ]
  },
  {
   "cell_type": "markdown",
   "id": "f0ef70a7",
   "metadata": {},
   "source": [
    "c. Create a 2-dimensional array of size m x n integer elements, also print the shape, type and data \n",
    "    type of the array and then reshape it into n x m array, n and m are user inputs given at the run time."
   ]
  },
  {
   "cell_type": "code",
   "execution_count": 38,
   "id": "0b72c3e0",
   "metadata": {},
   "outputs": [
    {
     "name": "stdout",
     "output_type": "stream",
     "text": [
      "Enter the rows: 4\n",
      "Enter the columns :3\n",
      "The array is :\n",
      " [[5 9 6]\n",
      " [7 7 1]\n",
      " [8 9 2]\n",
      " [8 1 0]]\n",
      "The shape of the array is : (4, 3)\n",
      "The type of array is : int32\n",
      "The data type is : <class 'numpy.ndarray'>\n",
      "The reshaped array is :\n",
      " [[5 9 6 7]\n",
      " [7 1 8 9]\n",
      " [2 8 1 0]]\n"
     ]
    }
   ],
   "source": [
    "m=int(input(\"Enter the rows: \"))\n",
    "n=int(input(\"Enter the columns :\"))\n",
    "arr=np.array(np.random.randint(0,10,(m,n)))\n",
    "print(\"The array is :\\n\",arr)\n",
    "print('The shape of the array is :',arr.shape)\n",
    "print('The type of array is :',arr.dtype)\n",
    "print('The data type is :',type(arr))\n",
    "print(\"The reshaped array is :\\n\",arr.reshape(n,m))"
   ]
  },
  {
   "cell_type": "markdown",
   "id": "62daf59a",
   "metadata": {},
   "source": [
    "d. Test whether the elements of a given array are zero, non-zero, and NaN .Record the indices of these elements in three separate arrays."
   ]
  },
  {
   "cell_type": "code",
   "execution_count": 44,
   "id": "b8dfc062",
   "metadata": {},
   "outputs": [
    {
     "name": "stdout",
     "output_type": "stream",
     "text": [
      "[ 0. 10. -1. nan  0. 23. nan  4.]\n",
      "testing array for NaN: [3, 6]\n",
      "testing array for zero : [0, 4]\n",
      "testing array for non zero : [1, 2, 5, 7]\n"
     ]
    }
   ],
   "source": [
    "Arr=np.array([0,10,-1,np.nan,0,23,-np.nan,4])\n",
    "print(Arr)\n",
    "nan=[]\n",
    "zero=[]\n",
    "nonZero=[]\n",
    "for  i,ele in enumerate(Arr):\n",
    "    if(np.isnan(ele)):\n",
    "        nan.append(i)\n",
    "    elif(ele!=0):\n",
    "        nonZero.append(i)\n",
    "    else:\n",
    "        zero.append(i)\n",
    "print(\"testing array for NaN:\",nan)\n",
    "print('testing array for zero :',zero)\n",
    "print('testing array for non zero :',nonZero)"
   ]
  },
  {
   "cell_type": "code",
   "execution_count": null,
   "id": "38664fc2",
   "metadata": {},
   "outputs": [],
   "source": []
  }
 ],
 "metadata": {
  "kernelspec": {
   "display_name": "Python 3 (ipykernel)",
   "language": "python",
   "name": "python3"
  },
  "language_info": {
   "codemirror_mode": {
    "name": "ipython",
    "version": 3
   },
   "file_extension": ".py",
   "mimetype": "text/x-python",
   "name": "python",
   "nbconvert_exporter": "python",
   "pygments_lexer": "ipython3",
   "version": "3.11.4"
  }
 },
 "nbformat": 4,
 "nbformat_minor": 5
}
