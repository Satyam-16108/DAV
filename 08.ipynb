{
  "metadata": {
    "language_info": {
      "codemirror_mode": {
        "name": "python",
        "version": 3
      },
      "file_extension": ".py",
      "mimetype": "text/x-python",
      "name": "python",
      "nbconvert_exporter": "python",
      "pygments_lexer": "ipython3",
      "version": "3.8"
    },
    "kernelspec": {
      "name": "python",
      "display_name": "Python (Pyodide)",
      "language": "python"
    }
  },
  "nbformat_minor": 4,
  "nbformat": 4,
  "cells": [
    {
      "cell_type": "code",
      "source": "import numpy as np \nimport pandas as pd",
      "metadata": {
        "trusted": true
      },
      "execution_count": 1,
      "outputs": []
    },
    {
      "cell_type": "code",
      "source": "data= {'Name':['Shah','Vats','Vats','Kumar','Vats','Kumar','Shah','Shah','Kumar','Vats'],\n       'Gender':['M','M','F','F','F','M','M','F','F','M'],\n       'MonthlyIncome':[114000.00,65000.00,43150.00,69500.00,155000.00,103000.00,55000.00,112400.00,81030.00,71900.00]}\ndf=pd.DataFrame(data)\ndf",
      "metadata": {
        "trusted": true
      },
      "execution_count": 28,
      "outputs": [
        {
          "execution_count": 28,
          "output_type": "execute_result",
          "data": {
            "text/plain": "    Name Gender  MonthlyIncome\n0   Shah      M       114000.0\n1   Vats      M        65000.0\n2   Vats      F        43150.0\n3  Kumar      F        69500.0\n4   Vats      F       155000.0\n5  Kumar      M       103000.0\n6   Shah      M        55000.0\n7   Shah      F       112400.0\n8  Kumar      F        81030.0\n9   Vats      M        71900.0",
            "text/html": "<div>\n<style scoped>\n    .dataframe tbody tr th:only-of-type {\n        vertical-align: middle;\n    }\n\n    .dataframe tbody tr th {\n        vertical-align: top;\n    }\n\n    .dataframe thead th {\n        text-align: right;\n    }\n</style>\n<table border=\"1\" class=\"dataframe\">\n  <thead>\n    <tr style=\"text-align: right;\">\n      <th></th>\n      <th>Name</th>\n      <th>Gender</th>\n      <th>MonthlyIncome</th>\n    </tr>\n  </thead>\n  <tbody>\n    <tr>\n      <th>0</th>\n      <td>Shah</td>\n      <td>M</td>\n      <td>114000.0</td>\n    </tr>\n    <tr>\n      <th>1</th>\n      <td>Vats</td>\n      <td>M</td>\n      <td>65000.0</td>\n    </tr>\n    <tr>\n      <th>2</th>\n      <td>Vats</td>\n      <td>F</td>\n      <td>43150.0</td>\n    </tr>\n    <tr>\n      <th>3</th>\n      <td>Kumar</td>\n      <td>F</td>\n      <td>69500.0</td>\n    </tr>\n    <tr>\n      <th>4</th>\n      <td>Vats</td>\n      <td>F</td>\n      <td>155000.0</td>\n    </tr>\n    <tr>\n      <th>5</th>\n      <td>Kumar</td>\n      <td>M</td>\n      <td>103000.0</td>\n    </tr>\n    <tr>\n      <th>6</th>\n      <td>Shah</td>\n      <td>M</td>\n      <td>55000.0</td>\n    </tr>\n    <tr>\n      <th>7</th>\n      <td>Shah</td>\n      <td>F</td>\n      <td>112400.0</td>\n    </tr>\n    <tr>\n      <th>8</th>\n      <td>Kumar</td>\n      <td>F</td>\n      <td>81030.0</td>\n    </tr>\n    <tr>\n      <th>9</th>\n      <td>Vats</td>\n      <td>M</td>\n      <td>71900.0</td>\n    </tr>\n  </tbody>\n</table>\n</div>"
          },
          "metadata": {}
        }
      ]
    },
    {
      "cell_type": "markdown",
      "source": "a. Calculate and display familywise gross monthly income",
      "metadata": {}
    },
    {
      "cell_type": "code",
      "source": "df.groupby('Name')['MonthlyIncome'].sum()",
      "metadata": {
        "trusted": true
      },
      "execution_count": 30,
      "outputs": [
        {
          "execution_count": 30,
          "output_type": "execute_result",
          "data": {
            "text/plain": "Name\nKumar    253530.0\nShah     281400.0\nVats     335050.0\nName: MonthlyIncome, dtype: float64"
          },
          "metadata": {}
        }
      ]
    },
    {
      "cell_type": "markdown",
      "source": "b. Calculate and display the member with the highest monthly income in a family",
      "metadata": {}
    },
    {
      "cell_type": "code",
      "source": "df.groupby('Name')['MonthlyIncome'].max()",
      "metadata": {
        "trusted": true
      },
      "execution_count": 31,
      "outputs": [
        {
          "execution_count": 31,
          "output_type": "execute_result",
          "data": {
            "text/plain": "Name\nKumar    103000.0\nShah     114000.0\nVats     155000.0\nName: MonthlyIncome, dtype: float64"
          },
          "metadata": {}
        }
      ]
    },
    {
      "cell_type": "markdown",
      "source": "c. Calculate and display monthly income of all members with income greater than Rs. 60000.00",
      "metadata": {}
    },
    {
      "cell_type": "code",
      "source": "df[df['MonthlyIncome']>60000.00]",
      "metadata": {
        "trusted": true
      },
      "execution_count": 32,
      "outputs": [
        {
          "execution_count": 32,
          "output_type": "execute_result",
          "data": {
            "text/plain": "    Name Gender  MonthlyIncome\n0   Shah      M       114000.0\n1   Vats      M        65000.0\n3  Kumar      F        69500.0\n4   Vats      F       155000.0\n5  Kumar      M       103000.0\n7   Shah      F       112400.0\n8  Kumar      F        81030.0\n9   Vats      M        71900.0",
            "text/html": "<div>\n<style scoped>\n    .dataframe tbody tr th:only-of-type {\n        vertical-align: middle;\n    }\n\n    .dataframe tbody tr th {\n        vertical-align: top;\n    }\n\n    .dataframe thead th {\n        text-align: right;\n    }\n</style>\n<table border=\"1\" class=\"dataframe\">\n  <thead>\n    <tr style=\"text-align: right;\">\n      <th></th>\n      <th>Name</th>\n      <th>Gender</th>\n      <th>MonthlyIncome</th>\n    </tr>\n  </thead>\n  <tbody>\n    <tr>\n      <th>0</th>\n      <td>Shah</td>\n      <td>M</td>\n      <td>114000.0</td>\n    </tr>\n    <tr>\n      <th>1</th>\n      <td>Vats</td>\n      <td>M</td>\n      <td>65000.0</td>\n    </tr>\n    <tr>\n      <th>3</th>\n      <td>Kumar</td>\n      <td>F</td>\n      <td>69500.0</td>\n    </tr>\n    <tr>\n      <th>4</th>\n      <td>Vats</td>\n      <td>F</td>\n      <td>155000.0</td>\n    </tr>\n    <tr>\n      <th>5</th>\n      <td>Kumar</td>\n      <td>M</td>\n      <td>103000.0</td>\n    </tr>\n    <tr>\n      <th>7</th>\n      <td>Shah</td>\n      <td>F</td>\n      <td>112400.0</td>\n    </tr>\n    <tr>\n      <th>8</th>\n      <td>Kumar</td>\n      <td>F</td>\n      <td>81030.0</td>\n    </tr>\n    <tr>\n      <th>9</th>\n      <td>Vats</td>\n      <td>M</td>\n      <td>71900.0</td>\n    </tr>\n  </tbody>\n</table>\n</div>"
          },
          "metadata": {}
        }
      ]
    },
    {
      "cell_type": "markdown",
      "source": "d. Calculate and display the average monthly income of the female members in the Shah family ",
      "metadata": {}
    },
    {
      "cell_type": "code",
      "source": "Shah=df[df['Name']=='Shah']\nShah[Shah['Gender']=='F'].mean()",
      "metadata": {
        "trusted": true
      },
      "execution_count": 33,
      "outputs": [
        {
          "name": "stderr",
          "text": "<ipython-input-33-16961326188f>:2: FutureWarning: The default value of numeric_only in DataFrame.mean is deprecated. In a future version, it will default to False. In addition, specifying 'numeric_only=None' is deprecated. Select only valid columns or specify the value of numeric_only to silence this warning.\n  Shah[Shah['Gender']=='F'].mean()\n",
          "output_type": "stream"
        },
        {
          "execution_count": 33,
          "output_type": "execute_result",
          "data": {
            "text/plain": "MonthlyIncome    112400.0\ndtype: float64"
          },
          "metadata": {}
        }
      ]
    },
    {
      "cell_type": "code",
      "source": "",
      "metadata": {},
      "execution_count": null,
      "outputs": []
    }
  ]
}