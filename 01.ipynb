{
 "cells": [
  {
   "cell_type": "markdown",
   "id": "d411bb85",
   "metadata": {},
   "source": [
    "# Given below is a dictionary having two keys \"Boys\" and \"Girls\" and having two lists of heights of Five boys and five girls resp as values associated with these keys"
   ]
  },
  {
   "cell_type": "code",
   "execution_count": 12,
   "id": "a2cf2303",
   "metadata": {},
   "outputs": [
    {
     "name": "stdout",
     "output_type": "stream",
     "text": [
      "[{'Boys': 72, 'Girls': 63}, {'Boys': 68, 'Girls': 65}, {'Boys': 70, 'Girls': 69}, {'Boys': 69, 'Girls': 62}, {'Boys': 74, 'Girls': 61}]\n"
     ]
    }
   ],
   "source": [
    "\n",
    "Dict={\"Boys\":[72,68,70,69,74],\"Girls\":[63,65,69,62,61]}\n",
    "li=[]\n",
    "key=list(Dict.keys())\n",
    "val=list(Dict.values())\n",
    "for i in range(len(Dict['Boys'])):\n",
    "    li.append({key[0]:val[0][i],key[1]:val[1][i]})\n",
    "print(li)\n"
   ]
  },
  {
   "cell_type": "code",
   "execution_count": null,
   "id": "98113429",
   "metadata": {},
   "outputs": [],
   "source": []
  }
 ],
 "metadata": {
  "kernelspec": {
   "display_name": "Python 3 (ipykernel)",
   "language": "python",
   "name": "python3"
  },
  "language_info": {
   "codemirror_mode": {
    "name": "ipython",
    "version": 3
   },
   "file_extension": ".py",
   "mimetype": "text/x-python",
   "name": "python",
   "nbconvert_exporter": "python",
   "pygments_lexer": "ipython3",
   "version": "3.11.4"
  }
 },
 "nbformat": 4,
 "nbformat_minor": 5
}
